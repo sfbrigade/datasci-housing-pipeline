{
 "cells": [
  {
   "cell_type": "markdown",
   "metadata": {},
   "source": [
    "# Produces dataset of project times from appended pipeline datasets (\"all_quarters_merged.csv\")"
   ]
  },
  {
   "cell_type": "code",
   "execution_count": 79,
   "metadata": {},
   "outputs": [],
   "source": [
    "import pandas as pd\n",
    "import logging\n",
    "import dateutil\n",
    "from dateutil import parser\n",
    "import numpy as np\n",
    "import matplotlib.pyplot as plt\n",
    "%matplotlib inline\n",
    "pd.set_option('display.max_columns', 500)\n",
    "pd.set_option('display.float_format', lambda x: '%.2f' % x) "
   ]
  },
  {
   "cell_type": "code",
   "execution_count": 80,
   "metadata": {
    "collapsed": true
   },
   "outputs": [],
   "source": [
    "logging.basicConfig(level=logging.INFO)"
   ]
  },
  {
   "cell_type": "markdown",
   "metadata": {},
   "source": [
    "# Actual Code"
   ]
  },
  {
   "cell_type": "code",
   "execution_count": 81,
   "metadata": {
    "collapsed": true
   },
   "outputs": [],
   "source": [
    "def convert_to_one_record_per_project(df):\n",
    "    \"\"\"\n",
    "    Group the dataset by (apn, address) and then emit one row per (apn, address) pair.\n",
    "    best_date and best_stat will be converted into arrays.\n",
    "    All other attributes will be taken from the record with the most recent `best_date` attribute.\n",
    "    \"\"\"\n",
    "    gb = df.groupby(['apn', 'address'])\n",
    "    for k in gb.groups:\n",
    "        group_df = gb.get_group(k)\n",
    "        group_df = group_df.sort_values(['best_date', 'report_year', 'report_quarter'], ascending=[True, True, True])\n",
    "        last_row = group_df.tail(1).copy()\n",
    "        \n",
    "        # identify building permit ID. Then fill in rest of quarters with this permit ID.\n",
    "        building_permit=np.nan\n",
    "        for index, row in group_df.iterrows():\n",
    "            if pd.isnull(row['dbi_permit']) and not pd.isnull(building_permit):\n",
    "                building_permit=building_permit\n",
    "            else:\n",
    "                building_permit = row['dbi_permit']\n",
    "                \n",
    "        #Identify completion quarter for those projects that have reached completion\n",
    "        for index, row in group_df.iterrows():\n",
    "            if row['best_stat'] !='CONSTRUCTION':\n",
    "                comp_quarter= np.nan\n",
    "                comp_year=np.nan\n",
    "            elif row['best_stat'] == 'CONSTRUCTION':\n",
    "                comp_quarter = row['report_quarter']\n",
    "                comp_year = row['report_year']\n",
    "\n",
    "        if pd.isnull(comp_quarter):\n",
    "            pass\n",
    "        if comp_quarter == 1 and comp_year == 2017:\n",
    "            comp_quarter = np.nan\n",
    "        elif comp_quarter == 4:\n",
    "            comp_quarter = 1\n",
    "            comp_year = 1+comp_year\n",
    "        else:\n",
    "            comp_quarter = 1+comp_quarter\n",
    "            \n",
    "        if comp_quarter ==1:\n",
    "            comp_daymth= '01/01'\n",
    "        elif comp_quarter ==2:\n",
    "            comp_daymth= '04/01'\n",
    "        elif comp_quarter==3:\n",
    "            comp_daymth= '07/01'\n",
    "        elif comp_quarter == 4:\n",
    "            comp_daymth= '10/01'\n",
    "        elif pd.isnull(comp_quarter):\n",
    "            comp_daymth=np.nan\n",
    "\n",
    "        if pd.isnull(comp_daymth):\n",
    "            comp_date = np.nan\n",
    "        else:\n",
    "            comp_date = comp_daymth + \"/\" + str(comp_year)\n",
    "        \n",
    "        #Identify earliest \"firstfiled\" date\n",
    "        firstfiled=''\n",
    "        for index, row in group_df.iterrows():\n",
    "            if pd.isnull(row['firstfiled']):\n",
    "                continue\n",
    "            else:\n",
    "                if len(firstfiled) ==0:\n",
    "                    firstfiled=row['firstfiled']\n",
    "                else:\n",
    "                    if dateutil.parser.parse(row['firstfiled']) < dateutil.parser.parse(firstfiled):\n",
    "                        firstfiled=row['firstfiled']\n",
    "                    else: \n",
    "                        firstfiled=firstfiled\n",
    "        \n",
    "        #Identify earliest best date\n",
    "        earliest_BD = ''\n",
    "        for index, row in group_df.iterrows():\n",
    "            if pd.isnull(row['best_date']):\n",
    "                continue\n",
    "            else:\n",
    "                if len(earliest_BD) == 0:\n",
    "                    earliest_BD = row['best_date']\n",
    "                else:\n",
    "                    continue\n",
    "        \n",
    "        # Finalize first date variable (minimum of earliest best_date and firstfiled)\n",
    "        if firstfiled =='' and earliest_BD !='':\n",
    "            first_date = earliest_BD\n",
    "        elif earliest_BD=='' and firstfiled !='':\n",
    "            first_date = firstfiled\n",
    "        elif firstfiled !='' and earliest_BD !='':\n",
    "            first_date = min(firstfiled, earliest_BD)\n",
    "            \n",
    "        # initiate variables. Groups without these dates are blank for these variables.\n",
    "        BP_date = ''\n",
    "        con_date = ''\n",
    "\n",
    "        #Identify first date for all status categories\n",
    "        m=0\n",
    "        for index, row in group_df.iterrows():\n",
    "            if m == 0:\n",
    "                status_previous = 'blah'\n",
    "            if row['status']=='Building Permit Approved':\n",
    "                if index == 0:\n",
    "                    BP_date = row['best_date']\n",
    "                elif index !=0:\n",
    "                    if status_previous =='Building Permit Approved':\n",
    "                        BP_date=BP_date\n",
    "                    else:\n",
    "                        BP_date = row['best_date']\n",
    "            elif row['status']=='Under Construction':\n",
    "                if index == 0:\n",
    "                    con_date = row['best_date']\n",
    "                elif index !=0:\n",
    "                    if status_previous =='Under Construction':\n",
    "                        con_date=con_date\n",
    "                    else:\n",
    "                        con_date = row['best_date']\n",
    "            status_previous = row['status']\n",
    "            m=m+1\n",
    "            \n",
    "        #Identify latest unit counts\n",
    "        units = np.nan\n",
    "        for index, row in group_df.iterrows():\n",
    "            if pd.isnull(row['units']):\n",
    "                continue\n",
    "            else:\n",
    "                units = row['units']\n",
    "                \n",
    "        #Identify latest net unit counts\n",
    "        unitsnet= np.nan\n",
    "        for index, row in group_df.iterrows():\n",
    "            if pd.isnull(row['unitsnet']):\n",
    "                continue\n",
    "            else:\n",
    "                unitsnet = row['unitsnet']\n",
    "        \n",
    "        #a few projects have construction best date after the completion date. In these cases, match the two.\n",
    "        if pd.notnull(comp_date) & pd.notnull(con_date):\n",
    "            if dateutil.parser.parse(comp_date) < dateutil.parser.parse(con_date):\n",
    "                comp_date = con_date\n",
    "                \n",
    "        #Identify latest zoning designation\n",
    "        for index, row in group_df.iterrows():\n",
    "            zoning = row['zoning_simplified']\n",
    "        \n",
    "        last_row['firstfiled']=firstfiled\n",
    "        last_row['dbi_permit']= building_permit\n",
    "        last_row['comp_date']=comp_date\n",
    "        last_row['BP_date'] = BP_date\n",
    "        last_row['con_date'] = con_date\n",
    "        last_row['first_date']=first_date\n",
    "        last_row['latest_project_record_date'] = last_row.best_date\n",
    "        last_row['first_project_record_date'] = group_df.iloc[0].best_date\n",
    "        last_row['latest_project_status'] = last_row.best_stat\n",
    "        last_row['units']=units\n",
    "        last_row['unitsnet']=unitsnet\n",
    "        last_row['zoning']=zoning\n",
    "\n",
    "        ## Store a parseable list of all the project states and the dates those states were reported\n",
    "        last_row['project_dates'] = str(tuple(group_df.best_date))\n",
    "        last_row['project_statuses'] = str(tuple(group_df.best_stat))\n",
    "\n",
    "        ## Store the project duration in days\n",
    "        if not (pd.isnull(comp_date) or pd.isnull(first_date)):\n",
    "            last_row['project_duration_days'] = (dateutil.parser.parse(comp_date) - dateutil.parser.parse(first_date)).days\n",
    "        \n",
    "        yield last_row\n",
    "\n",
    "\n",
    "def main():\n",
    "    df = pd.read_csv(\"cleaned/all_quarters_merged.csv\")\n",
    "    #consolidate status categories. Start with 3 for now\n",
    "    def status_function(value):\n",
    "        if value['best_stat']==\"CONSTRUCTION\":\n",
    "            field = 'Under Construction'\n",
    "        elif (value['best_stat']=='BP APPROVED') | (value['best_stat']=='BP ISSUED') | (value['best_stat']=='BP REINSTATED'):\n",
    "            field = 'Building Permit Approved'\n",
    "        else:\n",
    "            field = 'Proposed'\n",
    "        return field\n",
    "\n",
    "    df['status']=df.apply(status_function, axis=1)\n",
    "    \n",
    "    #keep only variables we want\n",
    "    list = ['address', 'apn', 'best_date', 'best_stat','status', 'firstfiled', 'report_quarter', 'report_year','units','unitsnet', 'dbi_permit', 'zoning_simplified', 'x', 'y']\n",
    "    df = df[list]\n",
    "    new_df = pd.concat(convert_to_one_record_per_project(df))\n",
    "    logging.info(\"Writing output ({} rows, {} cols) to data/cleaned/all_quarters__one_record_per_project.csv\".format(*new_df.shape))\n",
    "    new_df.to_csv(\"cleaned/all_quarters__one_record_per_project.csv\")\n",
    "    return new_df"
   ]
  },
  {
   "cell_type": "code",
   "execution_count": 82,
   "metadata": {},
   "outputs": [
    {
     "name": "stderr",
     "output_type": "stream",
     "text": [
      "/Users/RSW/anaconda3/lib/python3.6/site-packages/IPython/core/interactiveshell.py:2802: DtypeWarning: Columns (1,2,6,7,14,15,19,23,24,25,26,28,29,30,31,32,37,38,39,42,43,44,45,46,47,52,53,55,57,59,60,63,69,71,72,73,74,75,76,77,78,79,81,85,89,91,96,97,98,99,100,101,102,103,104,106,111,114,116,117,118,119,120,122,123,124,126,129,131,139,142,144,147) have mixed types. Specify dtype option on import or set low_memory=False.\n",
      "  if self.run_code(code, result):\n",
      "INFO:root:Writing output (3551 rows, 25 cols) to data/cleaned/all_quarters__one_record_per_project.csv\n"
     ]
    }
   ],
   "source": [
    "new_df = main()"
   ]
  },
  {
   "cell_type": "code",
   "execution_count": 83,
   "metadata": {
    "collapsed": true
   },
   "outputs": [],
   "source": [
    "#First, filter out those projects that are exclusively non-residential (defined as those without units)\n",
    "new_df = new_df[new_df['units'] > 0]"
   ]
  },
  {
   "cell_type": "code",
   "execution_count": 84,
   "metadata": {
    "collapsed": true
   },
   "outputs": [],
   "source": [
    "#Next, keep only those that reached completion at some point over the time period\n",
    "new_df=new_df[pd.notnull(new_df['comp_date'])]\n",
    "new_df=new_df[new_df['firstfiled'] !='']"
   ]
  },
  {
   "cell_type": "code",
   "execution_count": 85,
   "metadata": {},
   "outputs": [],
   "source": [
    "new_df=new_df[pd.notnull(new_df['firstfiled'])]"
   ]
  },
  {
   "cell_type": "markdown",
   "metadata": {},
   "source": [
    "# Manual Data Fixes (Post Catching Mistake)"
   ]
  },
  {
   "cell_type": "code",
   "execution_count": 86,
   "metadata": {},
   "outputs": [],
   "source": [
    "# fix duplicates\n",
    "new_df['address_apn']=new_df['address']+new_df['apn']\n",
    "\n",
    "for index, row in new_df.iterrows():\n",
    "    if row['dbi_permit']=='':\n",
    "        row['dbi_permit']==row['address_apn']"
   ]
  },
  {
   "cell_type": "code",
   "execution_count": 87,
   "metadata": {},
   "outputs": [
    {
     "data": {
      "text/plain": [
       "array(['2101 & 2155 WEBSTER ST0629037',\n",
       "       '2101 & 2155 WEBSTER STREET0629037', '2155 WEBSTER ST0629037',\n",
       "       '1634 - 1690 PINE ST0647007', '1634-1690 PINE ST0647007',\n",
       "       '1100 GOLDEN GATE AV0757025', '1239 TURK ST0757027',\n",
       "       '1100 GOLDEN GATE AV0757028', '746 LAGUNA ST0794015',\n",
       "       '555 FULTON ST0794028', '450 HAYES ST0808039',\n",
       "       '450 HAYES STREET0808039', '447 - 453 LINDEN ST0818048',\n",
       "       '447 LINDEN ST0818048', '443 LINDEN ST0818049',\n",
       "       'MARKET OCTAVIA - PARCEL P0831023',\n",
       "       'PARCEL P - MARKET OCTAVIA0831023', '4 OCTAVIA ST0855011',\n",
       "       '8 OCTAVIA ST0855011', '55 LAGUNA ST0857001',\n",
       "       '55 LAGUNA ST (BLDG 2)0857001', '55 LAGUNA STREET0857001',\n",
       "       '218 BUCHANAN ST0857001A', '100 BUCHANAN ST0870003',\n",
       "       '55 LAGUNA ST (BLDG 1)0870003', '3150 GEARY BL1066028',\n",
       "       '3150 GEARY BL1066060', '3575 GEARY BL1083002',\n",
       "       '3575 GEARY BL1084010', '1823 TURK ST1153020',\n",
       "       '1823 TURK ST (RESIDENTIAL)1153020', '338 CARL ST1265009',\n",
       "       '338 CARL ST1265047', '2800 SLOAT BL2515001',\n",
       "       '2800 SLOAT BLVD2515001', '70 DOUGLASS ST2625007A',\n",
       "       '70 DOUGLASS ST2625032', '83 PANORAMA DR2821010',\n",
       "       '83 PANORAMA DR2821023', '287 CRESTA VISTA DR2993088',\n",
       "       '287 CRESTA VISTA DR2993090', '690 MONTEREY BL3094055',\n",
       "       '690 MONTEREY BLVD3094055', '1446 OCEAN AV3197010',\n",
       "       '1490 OCEAN AV3197010', '1400 MISSION ST3507039',\n",
       "       '1420 MISSION ST3507039', '1340-1390 MISSION ST3508053',\n",
       "       '145 AMES ST3632038', '1068 GUERRERO ST3632039',\n",
       "       '1190 MISSION ST3702052', '1169 MARKET ST3702053',\n",
       "       'TRINITY PLAZA PHASE III3702308', 'TRINITY PLAZA PHASE III3702391',\n",
       "       '1 ECKER ST3708022', '1 ECKER ST3708056', '47 MOSS ST3731119',\n",
       "       '49 MOSS ST3731119', '41 TEHAMA ST3736074', '57 TEHAMA ST3736078A',\n",
       "       '201 FOLSOM ST3746001', '201 FOLSOM ST3746003',\n",
       "       '233 - 237 SHIPLEY ST3753096', '233-237 SHIPLEY ST3753096',\n",
       "       '923 FOLSOM ST3753106', '923 FOLSOM STREET3753106',\n",
       "       '236 - 238 SHIPLEY ST / 77 FALMOUTH ST3753314',\n",
       "       '5 SHIPLEY ST / 935 FOLSOM ST / 77 FALMOUTH ST3753314',\n",
       "       '1000 16TH ST3833001', '1400 07TH ST3833001',\n",
       "       'POTRERO1010 (BLDG 1 OF 2)3833001',\n",
       "       '1006 / 1050 16TH ST & 1380 07TH ST3833002', '1006 16TH ST3833002',\n",
       "       '346 POTRERO AV3962008', '346 POTRERO AVENUE3962008',\n",
       "       '746 CAROLINA ST4096005', '746 CAROLINA ST4096109',\n",
       "       '1076 HAMPSHIRE ST4152016', '1076 HAMPSHIRE ST4152045',\n",
       "       '1078 HAMPSHIRE ST4152046', '1201 - 1225 TENNESSEE STREET4172022',\n",
       "       '1201-1225 TENNESSEE STREET4172022', '1301 INDIANA ST4228010',\n",
       "       '1301 INDIANA ST4228158',\n",
       "       'HP SHIPYARD PHASE 1 (UNDER CONSTRUCTION)4591C001',\n",
       "       'HUNTERS POINT SHIPYARD (UNDER CONSTRUCTION)4591C001',\n",
       "       'HUNTERS POINT SHIPYARD PHASE I4591C001',\n",
       "       'HUDSON AVE AND WHITNEY YOUNG CIR4711118',\n",
       "       '101 EXECUTIVE PARK BL4991279', '101 EXECUTIVE PARK BL4991617',\n",
       "       '4132 THIRD STREET5260002', '4132 03RD ST5260003',\n",
       "       '5800 03RD ST5431A001', '5800 03RD ST (BUILDING 4)5431A042',\n",
       "       '782-786 ANDOVER ST5825007', '782-786 ANDOVER ST5825032',\n",
       "       '165 - 167 BRUSSELS ST5926021', '167 BRUSSELS ST5926021',\n",
       "       '262 MADISON ST5943008', '268 MADISON ST5943008',\n",
       "       '262 MADISON ST5943050', '268 MADISON ST5943051',\n",
       "       '800 BROTHERHOOD WAY7331003',\n",
       "       '800 BROTHERHOOD WAY (UNDER CONSTRUCTION)7331003',\n",
       "       '800 BROTHERHOOD7331005', '800 BROTHERHOOD WAY7331005',\n",
       "       '800 BROTHERHOOD WAY (UNDER CONSTRUCTION)7331005',\n",
       "       '718 LONG BRIDGE ST8710004', '718 LONG BRIDGE ST8710007',\n",
       "       'MISSION BAY BLOCK 1 (RESIDENTIAL)8715004',\n",
       "       'MISSION BAY BLOCK 1 (RESIDENTIAL) 03RD8715004'], dtype=object)"
      ]
     },
     "execution_count": 87,
     "metadata": {},
     "output_type": "execute_result"
    }
   ],
   "source": [
    "#Finally, filter out records with duplicate BP Ids\n",
    "new_df[new_df.duplicated('dbi_permit', keep=False)]['address_apn'].unique()"
   ]
  },
  {
   "cell_type": "code",
   "execution_count": 88,
   "metadata": {},
   "outputs": [
    {
     "data": {
      "text/plain": [
       "18830    200702224724\n",
       "Name: dbi_permit, dtype: object"
      ]
     },
     "execution_count": 88,
     "metadata": {},
     "output_type": "execute_result"
    }
   ],
   "source": [
    "new_df[new_df['address_apn'] == '3575 GEARY BL1083002']['dbi_permit']"
   ]
  },
  {
   "cell_type": "code",
   "execution_count": 89,
   "metadata": {},
   "outputs": [
    {
     "data": {
      "text/html": [
       "<div>\n",
       "<style>\n",
       "    .dataframe thead tr:only-child th {\n",
       "        text-align: right;\n",
       "    }\n",
       "\n",
       "    .dataframe thead th {\n",
       "        text-align: left;\n",
       "    }\n",
       "\n",
       "    .dataframe tbody tr th {\n",
       "        vertical-align: top;\n",
       "    }\n",
       "</style>\n",
       "<table border=\"1\" class=\"dataframe\">\n",
       "  <thead>\n",
       "    <tr style=\"text-align: right;\">\n",
       "      <th></th>\n",
       "      <th>BP_date</th>\n",
       "      <th>address</th>\n",
       "      <th>apn</th>\n",
       "      <th>best_date</th>\n",
       "      <th>best_stat</th>\n",
       "      <th>comp_date</th>\n",
       "      <th>con_date</th>\n",
       "      <th>dbi_permit</th>\n",
       "      <th>first_date</th>\n",
       "      <th>first_project_record_date</th>\n",
       "      <th>firstfiled</th>\n",
       "      <th>latest_project_record_date</th>\n",
       "      <th>latest_project_status</th>\n",
       "      <th>project_dates</th>\n",
       "      <th>project_duration_days</th>\n",
       "      <th>project_statuses</th>\n",
       "      <th>report_quarter</th>\n",
       "      <th>report_year</th>\n",
       "      <th>status</th>\n",
       "      <th>units</th>\n",
       "      <th>unitsnet</th>\n",
       "      <th>x</th>\n",
       "      <th>y</th>\n",
       "      <th>zoning</th>\n",
       "      <th>zoning_simplified</th>\n",
       "      <th>address_apn</th>\n",
       "    </tr>\n",
       "  </thead>\n",
       "  <tbody>\n",
       "    <tr>\n",
       "      <th>18830</th>\n",
       "      <td></td>\n",
       "      <td>3575 GEARY BL</td>\n",
       "      <td>1083002</td>\n",
       "      <td>2009-12-14</td>\n",
       "      <td>CONSTRUCTION</td>\n",
       "      <td>01/01/2010</td>\n",
       "      <td>2009-08-19</td>\n",
       "      <td>200702224724</td>\n",
       "      <td>2003-05-20</td>\n",
       "      <td>2009-08-19</td>\n",
       "      <td>2003-05-20</td>\n",
       "      <td>2009-12-14</td>\n",
       "      <td>CONSTRUCTION</td>\n",
       "      <td>('2009-08-19', '2009-12-14')</td>\n",
       "      <td>2418.00</td>\n",
       "      <td>('CONSTRUCTION', 'CONSTRUCTION')</td>\n",
       "      <td>4</td>\n",
       "      <td>2009</td>\n",
       "      <td>Under Construction</td>\n",
       "      <td>150.00</td>\n",
       "      <td>150.00</td>\n",
       "      <td>-122.46</td>\n",
       "      <td>37.78</td>\n",
       "      <td>NC-3</td>\n",
       "      <td>NC-3</td>\n",
       "      <td>3575 GEARY BL1083002</td>\n",
       "    </tr>\n",
       "    <tr>\n",
       "      <th>12727</th>\n",
       "      <td></td>\n",
       "      <td>3575 GEARY BL</td>\n",
       "      <td>1084010</td>\n",
       "      <td>2010-09-24</td>\n",
       "      <td>CONSTRUCTION</td>\n",
       "      <td>04/01/2011</td>\n",
       "      <td>2010-04-26</td>\n",
       "      <td>200702224724</td>\n",
       "      <td>2003-05-20</td>\n",
       "      <td>2010-04-26</td>\n",
       "      <td>2003-05-20</td>\n",
       "      <td>2010-09-24</td>\n",
       "      <td>CONSTRUCTION</td>\n",
       "      <td>('2010-04-26', '2010-05-07', '2010-08-16', '20...</td>\n",
       "      <td>2873.00</td>\n",
       "      <td>('CONSTRUCTION', 'CONSTRUCTION', 'CONSTRUCTION...</td>\n",
       "      <td>1</td>\n",
       "      <td>2011</td>\n",
       "      <td>Under Construction</td>\n",
       "      <td>150.00</td>\n",
       "      <td>nan</td>\n",
       "      <td>-122.46</td>\n",
       "      <td>37.78</td>\n",
       "      <td>NC-3</td>\n",
       "      <td>NC-3</td>\n",
       "      <td>3575 GEARY BL1084010</td>\n",
       "    </tr>\n",
       "  </tbody>\n",
       "</table>\n",
       "</div>"
      ],
      "text/plain": [
       "      BP_date        address      apn   best_date     best_stat   comp_date  \\\n",
       "18830          3575 GEARY BL  1083002  2009-12-14  CONSTRUCTION  01/01/2010   \n",
       "12727          3575 GEARY BL  1084010  2010-09-24  CONSTRUCTION  04/01/2011   \n",
       "\n",
       "         con_date    dbi_permit  first_date first_project_record_date  \\\n",
       "18830  2009-08-19  200702224724  2003-05-20                2009-08-19   \n",
       "12727  2010-04-26  200702224724  2003-05-20                2010-04-26   \n",
       "\n",
       "       firstfiled latest_project_record_date latest_project_status  \\\n",
       "18830  2003-05-20                 2009-12-14          CONSTRUCTION   \n",
       "12727  2003-05-20                 2010-09-24          CONSTRUCTION   \n",
       "\n",
       "                                           project_dates  \\\n",
       "18830                       ('2009-08-19', '2009-12-14')   \n",
       "12727  ('2010-04-26', '2010-05-07', '2010-08-16', '20...   \n",
       "\n",
       "       project_duration_days  \\\n",
       "18830                2418.00   \n",
       "12727                2873.00   \n",
       "\n",
       "                                        project_statuses  report_quarter  \\\n",
       "18830                   ('CONSTRUCTION', 'CONSTRUCTION')               4   \n",
       "12727  ('CONSTRUCTION', 'CONSTRUCTION', 'CONSTRUCTION...               1   \n",
       "\n",
       "       report_year              status  units  unitsnet       x     y zoning  \\\n",
       "18830         2009  Under Construction 150.00    150.00 -122.46 37.78   NC-3   \n",
       "12727         2011  Under Construction 150.00       nan -122.46 37.78   NC-3   \n",
       "\n",
       "      zoning_simplified           address_apn  \n",
       "18830              NC-3  3575 GEARY BL1083002  \n",
       "12727              NC-3  3575 GEARY BL1084010  "
      ]
     },
     "execution_count": 89,
     "metadata": {},
     "output_type": "execute_result"
    }
   ],
   "source": [
    "new_df[new_df['dbi_permit']=='200702224724']"
   ]
  },
  {
   "cell_type": "markdown",
   "metadata": {},
   "source": [
    "# Previous Manual Fixes (Pre-Mistake)"
   ]
  },
  {
   "cell_type": "code",
   "execution_count": 90,
   "metadata": {},
   "outputs": [],
   "source": [
    "# Pre Mistake Manual Fixes\n",
    "\n",
    "# fix duplicates\n",
    "new_df['address_apn']=new_df['address']+new_df['apn']\n",
    "\n",
    "#decided that both this and its duplicate BP at 1169 Market Street are two phases of the same project. Revise start date and drop 1169 Market\n",
    "new_df.loc[(new_df['address']=='1190 MISSION ST') & (new_df['apn']=='3702052'), 'first_date'] = '2003-07-15'\n",
    "new_df = new_df[new_df['address_apn'] !='1169 MARKET ST3702053']\n",
    "\n",
    "#Same project. Same dates except for construction date. Choosing best of the two dates based on Google street view.\n",
    "new_df.loc[(new_df['address']=='49 MOSS ST') & (new_df['apn']=='3731119'), 'con_date'] = '2015-05-20'\n",
    "new_df = new_df[new_df['address_apn'] !='47 MOSS ST3731119']\n",
    "\n",
    "#Assume that 101 EXECUTIVE PARK BL duplicates are legitimately separate projects. Different unit counts, etc.\n",
    "\n",
    "#Changed address name in final Q4 2015. Extend completion date by 1 quarter. Drop the duplicate.\n",
    "new_df.loc[(new_df['address']=='690 MONTEREY BLVD') & (new_df['apn']=='3094055'), 'comp_date'] = '2015-05-20'\n",
    "new_df=new_df[new_df['address_apn'] !='690 MONTEREY BL3094055']\n",
    "\n",
    "#1340-1390 MISSION ST no dbi permit in any quarter just leave in\n",
    "\n",
    "#Multiple Hunters point shipyards. I extend completion date and change units to latest available information. \n",
    "new_df.loc[(new_df['address']=='HUNTERS POINT SHIPYARD PHASE I') & (new_df['apn']=='4591C001'), 'comp_date'] = '10/01/2016'\n",
    "new_df.loc[(new_df['address']=='HUNTERS POINT SHIPYARD PHASE I') & (new_df['apn']=='4591C001'), 'units'] = 167\n",
    "new_df=new_df[new_df['address_apn'] !='HP SHIPYARD PHASE 1 (UNDER CONSTRUCTION)4591C001']\n",
    "\n",
    "#Same project. Change construction date to reflect earliest information.\n",
    "new_df.loc[(new_df['address']=='800 BROTHERHOOD WAY (UNDER CONSTRUCTION)') & (new_df['apn']=='7331005'), 'con_date'] = '2012-09-11'\n",
    "new_df=new_df[new_df['address_apn'] !='800 BROTHERHOOD7331005']\n",
    "\n",
    "#HUDSON AVE AND WHITNEY YOUNG CIR4711118—no dbi permit information in any quarter. Just leave in\n",
    "\n",
    "#Same project. Change completion date to latest available info.\n",
    "new_df.loc[(new_df['address']=='MARKET OCTAVIA - PARCEL P') & (new_df['apn']=='0831023'), 'comp_date'] = '01/01/2016'\n",
    "new_df=new_df[new_df['address_apn'] !='PARCEL P - MARKET OCTAVIA0831023']\n",
    "\n",
    "#duplicate projects. Update to reflect latest completion date information.\n",
    "new_df=new_df[new_df['address_apn'] !='443 LINDEN ST0818049']\n",
    "\n",
    "#duplicate projects. Update completion date and units to most recent information. Everything else to earliest info.\n",
    "new_df.loc[(new_df['address']=='2101 & 2155 WEBSTER STREET') & (new_df['apn']=='0629037'), 'con_date'] = '2015-03-18'\n",
    "new_df=new_df[new_df['address_apn'] !='2155 WEBSTER ST0629037']\n",
    "\n",
    "#duplicate projects but one just pops up for one quarter so just drop it.\n",
    "new_df=new_df[new_df['address_apn'] !='70 DOUGLASS ST2625032']\n",
    "\n",
    "#duplicate projects. Update completion date to most recent. Update construction date to earliest.\n",
    "new_df.loc[(new_df['address']=='3575 GEARY BL') & (new_df['apn']=='1084010'), 'con_date'] = '2010-04-26'\n",
    "new_df=new_df[new_df['address_apn'] !='3575 GEARY BL1083002']\n",
    "\n",
    "#duplicate projects. Drop ones that are out of date.\n",
    "new_df=new_df[new_df['address_apn'] !='1100 GOLDEN GATE AV0757028']\n",
    "new_df=new_df[new_df['address_apn'] !='1239 TURK ST0757027']\n",
    "\n",
    "#duplicate projects. Update completion date to most recent. Update construction date to earliest available.\n",
    "#Determined through PIM that 218 Buchanan alteration to 55 Laguna Street project. Update information to earliest possible.\n",
    "new_df.loc[(new_df['address']=='55 LAGUNA ST') & (new_df['apn']=='0857001'), 'con_date'] = '2013-08-07'\n",
    "new_df.loc[(new_df['address']=='55 LAGUNA ST') & (new_df['apn']=='0857001'), 'BP_date'] = '2013-06-11'\n",
    "new_df=new_df[new_df['address_apn'] !='55 LAGUNA STREET0857001']\n",
    "new_df=new_df[new_df['address_apn'] !='218 BUCHANAN ST0857001A']\n",
    "\n",
    "#duplicate with out of date info. Drop.\n",
    "new_df=new_df[new_df['address_apn'] !='782-786 ANDOVER ST5825032']\n",
    "\n",
    "#duplicate with out of date info. Drop.\n",
    "new_df=new_df[new_df['address_apn'] !='746 CAROLINA ST4096109']\n",
    "\n",
    "#duplicate with out of date info. Drop.\n",
    "new_df=new_df[new_df['address_apn'] !='1301 INDIANA ST4228010']\n",
    "\n",
    "#145 AMES ST and 1068 GUERRERO ST seem like legitimately different projects despite duplicate building permits.\n",
    "\n",
    "#duplicate with out of date info. Drop.\n",
    "new_df=new_df[new_df['address_apn'] !='3150 GEARY BL1066060']\n",
    "\n",
    "#seems like the same project (8 Octavia versus 4 Octavia). Updating completion date.\n",
    "new_df.loc[(new_df['address']=='4 OCTAVIA ST') & (new_df['apn']=='0855011'), 'BP_date'] = '10/01/2014'\n",
    "new_df=new_df[new_df['address_apn'] !='8 OCTAVIA ST0855011']\n",
    "\n",
    "#drop duplicate 338 Carl Street. No new info.\n",
    "new_df=new_df[new_df['address_apn'] !='338 CARL ST1265047']\n",
    "\n",
    "#drop duplicate 1076 Hampshire Street and 1078 Hampshire Street. No new info.\n",
    "new_df=new_df[new_df['address_apn'] !='1076 HAMPSHIRE ST4152045']\n",
    "new_df=new_df[new_df['address_apn'] !='1078 HAMPSHIRE ST4152046']\n",
    "\n",
    "#duplicates. Updating comp date to most recent info.\n",
    "new_df.loc[(new_df['address']=='1420 MISSION ST') & (new_df['apn']=='3507039'), 'comp_date'] = '04/01/2015'\n",
    "new_df=new_df[new_df['address_apn'] !='1400 MISSION ST3507039']\n",
    "\n",
    "#there are 2 101 EXECUTIVE PARK BL's. I believe that they are separate projects so leaving them so here.\n",
    "\n",
    "#duplicates. Updating comp date to most recent info. Updating construction date to earliest info.\n",
    "new_df.loc[(new_df['address']=='1 ECKER ST') & (new_df['apn']=='3708022'), 'con_date'] = '2009-05-12'\n",
    "new_df=new_df[new_df['address_apn'] !='1 ECKER ST3708056']\n"
   ]
  },
  {
   "cell_type": "markdown",
   "metadata": {},
   "source": [
    "# Explore Duplicate Data"
   ]
  },
  {
   "cell_type": "code",
   "execution_count": 91,
   "metadata": {},
   "outputs": [
    {
     "data": {
      "text/plain": [
       "array(['2101 & 2155 WEBSTER ST0629037',\n",
       "       '2101 & 2155 WEBSTER STREET0629037', '1634 - 1690 PINE ST0647007',\n",
       "       '1634-1690 PINE ST0647007', '746 LAGUNA ST0794015',\n",
       "       '555 FULTON ST0794028', '450 HAYES ST0808039',\n",
       "       '450 HAYES STREET0808039', '447 - 453 LINDEN ST0818048',\n",
       "       '447 LINDEN ST0818048', '55 LAGUNA ST0857001',\n",
       "       '55 LAGUNA ST (BLDG 2)0857001', '100 BUCHANAN ST0870003',\n",
       "       '55 LAGUNA ST (BLDG 1)0870003', '1823 TURK ST1153020',\n",
       "       '1823 TURK ST (RESIDENTIAL)1153020', '2800 SLOAT BL2515001',\n",
       "       '2800 SLOAT BLVD2515001', '83 PANORAMA DR2821010',\n",
       "       '83 PANORAMA DR2821023', '287 CRESTA VISTA DR2993088',\n",
       "       '287 CRESTA VISTA DR2993090', '1446 OCEAN AV3197010',\n",
       "       '1490 OCEAN AV3197010', '1340-1390 MISSION ST3508053',\n",
       "       '145 AMES ST3632038', '1068 GUERRERO ST3632039',\n",
       "       'TRINITY PLAZA PHASE III3702308', 'TRINITY PLAZA PHASE III3702391',\n",
       "       '41 TEHAMA ST3736074', '57 TEHAMA ST3736078A',\n",
       "       '201 FOLSOM ST3746001', '201 FOLSOM ST3746003',\n",
       "       '233 - 237 SHIPLEY ST3753096', '233-237 SHIPLEY ST3753096',\n",
       "       '923 FOLSOM ST3753106', '923 FOLSOM STREET3753106',\n",
       "       '236 - 238 SHIPLEY ST / 77 FALMOUTH ST3753314',\n",
       "       '5 SHIPLEY ST / 935 FOLSOM ST / 77 FALMOUTH ST3753314',\n",
       "       '1000 16TH ST3833001', '1400 07TH ST3833001',\n",
       "       'POTRERO1010 (BLDG 1 OF 2)3833001',\n",
       "       '1006 / 1050 16TH ST & 1380 07TH ST3833002', '1006 16TH ST3833002',\n",
       "       '346 POTRERO AV3962008', '346 POTRERO AVENUE3962008',\n",
       "       '1201 - 1225 TENNESSEE STREET4172022',\n",
       "       '1201-1225 TENNESSEE STREET4172022',\n",
       "       'HUNTERS POINT SHIPYARD (UNDER CONSTRUCTION)4591C001',\n",
       "       'HUNTERS POINT SHIPYARD PHASE I4591C001',\n",
       "       'HUDSON AVE AND WHITNEY YOUNG CIR4711118',\n",
       "       '101 EXECUTIVE PARK BL4991279', '101 EXECUTIVE PARK BL4991617',\n",
       "       '4132 THIRD STREET5260002', '4132 03RD ST5260003',\n",
       "       '5800 03RD ST5431A001', '5800 03RD ST (BUILDING 4)5431A042',\n",
       "       '165 - 167 BRUSSELS ST5926021', '167 BRUSSELS ST5926021',\n",
       "       '262 MADISON ST5943008', '268 MADISON ST5943008',\n",
       "       '262 MADISON ST5943050', '268 MADISON ST5943051',\n",
       "       '800 BROTHERHOOD WAY7331003',\n",
       "       '800 BROTHERHOOD WAY (UNDER CONSTRUCTION)7331003',\n",
       "       '800 BROTHERHOOD WAY7331005',\n",
       "       '800 BROTHERHOOD WAY (UNDER CONSTRUCTION)7331005',\n",
       "       '718 LONG BRIDGE ST8710004', '718 LONG BRIDGE ST8710007',\n",
       "       'MISSION BAY BLOCK 1 (RESIDENTIAL)8715004',\n",
       "       'MISSION BAY BLOCK 1 (RESIDENTIAL) 03RD8715004'], dtype=object)"
      ]
     },
     "execution_count": 91,
     "metadata": {},
     "output_type": "execute_result"
    }
   ],
   "source": [
    "#Finally, filter out records with duplicate BP Ids\n",
    "new_df[new_df.duplicated('dbi_permit', keep=False)]['address_apn'].unique()\n"
   ]
  },
  {
   "cell_type": "code",
   "execution_count": 92,
   "metadata": {},
   "outputs": [
    {
     "data": {
      "text/plain": [
       "Series([], Name: dbi_permit, dtype: object)"
      ]
     },
     "execution_count": 92,
     "metadata": {},
     "output_type": "execute_result"
    }
   ],
   "source": [
    "new_df[new_df['address_apn'] == '2101 & 2155 WEBSTER STREET']['dbi_permit']"
   ]
  },
  {
   "cell_type": "code",
   "execution_count": 93,
   "metadata": {},
   "outputs": [],
   "source": [
    "#new_df[pd.isnull(new_df['dbi_permit'])]"
   ]
  },
  {
   "cell_type": "code",
   "execution_count": 94,
   "metadata": {},
   "outputs": [
    {
     "data": {
      "text/html": [
       "<div>\n",
       "<style>\n",
       "    .dataframe thead tr:only-child th {\n",
       "        text-align: right;\n",
       "    }\n",
       "\n",
       "    .dataframe thead th {\n",
       "        text-align: left;\n",
       "    }\n",
       "\n",
       "    .dataframe tbody tr th {\n",
       "        vertical-align: top;\n",
       "    }\n",
       "</style>\n",
       "<table border=\"1\" class=\"dataframe\">\n",
       "  <thead>\n",
       "    <tr style=\"text-align: right;\">\n",
       "      <th></th>\n",
       "      <th>BP_date</th>\n",
       "      <th>address</th>\n",
       "      <th>apn</th>\n",
       "      <th>best_date</th>\n",
       "      <th>best_stat</th>\n",
       "      <th>comp_date</th>\n",
       "      <th>con_date</th>\n",
       "      <th>dbi_permit</th>\n",
       "      <th>first_date</th>\n",
       "      <th>first_project_record_date</th>\n",
       "      <th>firstfiled</th>\n",
       "      <th>latest_project_record_date</th>\n",
       "      <th>latest_project_status</th>\n",
       "      <th>project_dates</th>\n",
       "      <th>project_duration_days</th>\n",
       "      <th>project_statuses</th>\n",
       "      <th>report_quarter</th>\n",
       "      <th>report_year</th>\n",
       "      <th>status</th>\n",
       "      <th>units</th>\n",
       "      <th>unitsnet</th>\n",
       "      <th>x</th>\n",
       "      <th>y</th>\n",
       "      <th>zoning</th>\n",
       "      <th>zoning_simplified</th>\n",
       "      <th>address_apn</th>\n",
       "    </tr>\n",
       "  </thead>\n",
       "  <tbody>\n",
       "  </tbody>\n",
       "</table>\n",
       "</div>"
      ],
      "text/plain": [
       "Empty DataFrame\n",
       "Columns: [BP_date, address, apn, best_date, best_stat, comp_date, con_date, dbi_permit, first_date, first_project_record_date, firstfiled, latest_project_record_date, latest_project_status, project_dates, project_duration_days, project_statuses, report_quarter, report_year, status, units, unitsnet, x, y, zoning, zoning_simplified, address_apn]\n",
       "Index: []"
      ]
     },
     "execution_count": 94,
     "metadata": {},
     "output_type": "execute_result"
    }
   ],
   "source": [
    "new_df[new_df['dbi_permit']==201112070234.00]"
   ]
  },
  {
   "cell_type": "code",
   "execution_count": 95,
   "metadata": {},
   "outputs": [
    {
     "data": {
      "text/plain": [
       "Series([], Name: firstfiled, dtype: object)"
      ]
     },
     "execution_count": 95,
     "metadata": {},
     "output_type": "execute_result"
    }
   ],
   "source": [
    "new_df[new_df['address_apn']=='HUNTERS VIEW4624031']['firstfiled']"
   ]
  },
  {
   "cell_type": "code",
   "execution_count": 96,
   "metadata": {},
   "outputs": [
    {
     "data": {
      "text/html": [
       "<div>\n",
       "<style>\n",
       "    .dataframe thead tr:only-child th {\n",
       "        text-align: right;\n",
       "    }\n",
       "\n",
       "    .dataframe thead th {\n",
       "        text-align: left;\n",
       "    }\n",
       "\n",
       "    .dataframe tbody tr th {\n",
       "        vertical-align: top;\n",
       "    }\n",
       "</style>\n",
       "<table border=\"1\" class=\"dataframe\">\n",
       "  <thead>\n",
       "    <tr style=\"text-align: right;\">\n",
       "      <th></th>\n",
       "      <th>BP_date</th>\n",
       "      <th>address</th>\n",
       "      <th>apn</th>\n",
       "      <th>best_date</th>\n",
       "      <th>best_stat</th>\n",
       "      <th>comp_date</th>\n",
       "      <th>con_date</th>\n",
       "      <th>dbi_permit</th>\n",
       "      <th>first_date</th>\n",
       "      <th>first_project_record_date</th>\n",
       "      <th>firstfiled</th>\n",
       "      <th>latest_project_record_date</th>\n",
       "      <th>latest_project_status</th>\n",
       "      <th>project_dates</th>\n",
       "      <th>project_duration_days</th>\n",
       "      <th>project_statuses</th>\n",
       "      <th>report_quarter</th>\n",
       "      <th>report_year</th>\n",
       "      <th>status</th>\n",
       "      <th>units</th>\n",
       "      <th>unitsnet</th>\n",
       "      <th>x</th>\n",
       "      <th>y</th>\n",
       "      <th>zoning</th>\n",
       "      <th>zoning_simplified</th>\n",
       "      <th>address_apn</th>\n",
       "    </tr>\n",
       "  </thead>\n",
       "  <tbody>\n",
       "  </tbody>\n",
       "</table>\n",
       "</div>"
      ],
      "text/plain": [
       "Empty DataFrame\n",
       "Columns: [BP_date, address, apn, best_date, best_stat, comp_date, con_date, dbi_permit, first_date, first_project_record_date, firstfiled, latest_project_record_date, latest_project_status, project_dates, project_duration_days, project_statuses, report_quarter, report_year, status, units, unitsnet, x, y, zoning, zoning_simplified, address_apn]\n",
       "Index: []"
      ]
     },
     "execution_count": 96,
     "metadata": {},
     "output_type": "execute_result"
    }
   ],
   "source": [
    "#explore duplicated\n",
    "new_df[new_df['address']=='2155 WEBSTER ST']"
   ]
  },
  {
   "cell_type": "code",
   "execution_count": 97,
   "metadata": {},
   "outputs": [
    {
     "data": {
      "text/html": [
       "<div>\n",
       "<style>\n",
       "    .dataframe thead tr:only-child th {\n",
       "        text-align: right;\n",
       "    }\n",
       "\n",
       "    .dataframe thead th {\n",
       "        text-align: left;\n",
       "    }\n",
       "\n",
       "    .dataframe tbody tr th {\n",
       "        vertical-align: top;\n",
       "    }\n",
       "</style>\n",
       "<table border=\"1\" class=\"dataframe\">\n",
       "  <thead>\n",
       "    <tr style=\"text-align: right;\">\n",
       "      <th></th>\n",
       "      <th>BP_date</th>\n",
       "      <th>address</th>\n",
       "      <th>apn</th>\n",
       "      <th>best_date</th>\n",
       "      <th>best_stat</th>\n",
       "      <th>comp_date</th>\n",
       "      <th>con_date</th>\n",
       "      <th>dbi_permit</th>\n",
       "      <th>first_date</th>\n",
       "      <th>first_project_record_date</th>\n",
       "      <th>firstfiled</th>\n",
       "      <th>latest_project_record_date</th>\n",
       "      <th>latest_project_status</th>\n",
       "      <th>project_dates</th>\n",
       "      <th>project_duration_days</th>\n",
       "      <th>project_statuses</th>\n",
       "      <th>report_quarter</th>\n",
       "      <th>report_year</th>\n",
       "      <th>status</th>\n",
       "      <th>units</th>\n",
       "      <th>unitsnet</th>\n",
       "      <th>x</th>\n",
       "      <th>y</th>\n",
       "      <th>zoning</th>\n",
       "      <th>zoning_simplified</th>\n",
       "      <th>address_apn</th>\n",
       "    </tr>\n",
       "  </thead>\n",
       "  <tbody>\n",
       "    <tr>\n",
       "      <th>11132</th>\n",
       "      <td>2008-12-11</td>\n",
       "      <td>72 TOWNSEND ST</td>\n",
       "      <td>3789003</td>\n",
       "      <td>2015-11-04</td>\n",
       "      <td>CONSTRUCTION</td>\n",
       "      <td>01/01/2016</td>\n",
       "      <td>2013-11-18</td>\n",
       "      <td>200705010136</td>\n",
       "      <td>2007-05-01</td>\n",
       "      <td>2008-12-11</td>\n",
       "      <td>2007-05-01</td>\n",
       "      <td>2015-11-04</td>\n",
       "      <td>CONSTRUCTION</td>\n",
       "      <td>('2008-12-11', '2008-12-11', '2008-12-11', '20...</td>\n",
       "      <td>3167.00</td>\n",
       "      <td>('BP APPROVED', 'BP APPROVED', 'BP APPROVED', ...</td>\n",
       "      <td>4</td>\n",
       "      <td>2015</td>\n",
       "      <td>Under Construction</td>\n",
       "      <td>74.00</td>\n",
       "      <td>74.00</td>\n",
       "      <td>-122.39</td>\n",
       "      <td>37.78</td>\n",
       "      <td>SB-DTR</td>\n",
       "      <td>SB-DTR</td>\n",
       "      <td>72 TOWNSEND ST3789003</td>\n",
       "    </tr>\n",
       "  </tbody>\n",
       "</table>\n",
       "</div>"
      ],
      "text/plain": [
       "          BP_date         address      apn   best_date     best_stat  \\\n",
       "11132  2008-12-11  72 TOWNSEND ST  3789003  2015-11-04  CONSTRUCTION   \n",
       "\n",
       "        comp_date    con_date    dbi_permit  first_date  \\\n",
       "11132  01/01/2016  2013-11-18  200705010136  2007-05-01   \n",
       "\n",
       "      first_project_record_date  firstfiled latest_project_record_date  \\\n",
       "11132                2008-12-11  2007-05-01                 2015-11-04   \n",
       "\n",
       "      latest_project_status  \\\n",
       "11132          CONSTRUCTION   \n",
       "\n",
       "                                           project_dates  \\\n",
       "11132  ('2008-12-11', '2008-12-11', '2008-12-11', '20...   \n",
       "\n",
       "       project_duration_days  \\\n",
       "11132                3167.00   \n",
       "\n",
       "                                        project_statuses  report_quarter  \\\n",
       "11132  ('BP APPROVED', 'BP APPROVED', 'BP APPROVED', ...               4   \n",
       "\n",
       "       report_year              status  units  unitsnet       x     y  zoning  \\\n",
       "11132         2015  Under Construction  74.00     74.00 -122.39 37.78  SB-DTR   \n",
       "\n",
       "      zoning_simplified            address_apn  \n",
       "11132            SB-DTR  72 TOWNSEND ST3789003  "
      ]
     },
     "execution_count": 97,
     "metadata": {},
     "output_type": "execute_result"
    }
   ],
   "source": [
    "new_df[new_df['dbi_permit']=='200705010136']"
   ]
  },
  {
   "cell_type": "code",
   "execution_count": 98,
   "metadata": {},
   "outputs": [
    {
     "data": {
      "text/html": [
       "<div>\n",
       "<style>\n",
       "    .dataframe thead tr:only-child th {\n",
       "        text-align: right;\n",
       "    }\n",
       "\n",
       "    .dataframe thead th {\n",
       "        text-align: left;\n",
       "    }\n",
       "\n",
       "    .dataframe tbody tr th {\n",
       "        vertical-align: top;\n",
       "    }\n",
       "</style>\n",
       "<table border=\"1\" class=\"dataframe\">\n",
       "  <thead>\n",
       "    <tr style=\"text-align: right;\">\n",
       "      <th></th>\n",
       "      <th>BP_date</th>\n",
       "      <th>address</th>\n",
       "      <th>apn</th>\n",
       "      <th>best_date</th>\n",
       "      <th>best_stat</th>\n",
       "      <th>comp_date</th>\n",
       "      <th>con_date</th>\n",
       "      <th>dbi_permit</th>\n",
       "      <th>first_date</th>\n",
       "      <th>first_project_record_date</th>\n",
       "      <th>firstfiled</th>\n",
       "      <th>latest_project_record_date</th>\n",
       "      <th>latest_project_status</th>\n",
       "      <th>project_dates</th>\n",
       "      <th>project_duration_days</th>\n",
       "      <th>project_statuses</th>\n",
       "      <th>report_quarter</th>\n",
       "      <th>report_year</th>\n",
       "      <th>status</th>\n",
       "      <th>units</th>\n",
       "      <th>unitsnet</th>\n",
       "      <th>x</th>\n",
       "      <th>y</th>\n",
       "      <th>zoning</th>\n",
       "      <th>zoning_simplified</th>\n",
       "      <th>address_apn</th>\n",
       "    </tr>\n",
       "  </thead>\n",
       "  <tbody>\n",
       "  </tbody>\n",
       "</table>\n",
       "</div>"
      ],
      "text/plain": [
       "Empty DataFrame\n",
       "Columns: [BP_date, address, apn, best_date, best_stat, comp_date, con_date, dbi_permit, first_date, first_project_record_date, firstfiled, latest_project_record_date, latest_project_status, project_dates, project_duration_days, project_statuses, report_quarter, report_year, status, units, unitsnet, x, y, zoning, zoning_simplified, address_apn]\n",
       "Index: []"
      ]
     },
     "execution_count": 98,
     "metadata": {},
     "output_type": "execute_result"
    }
   ],
   "source": [
    "new_df[new_df['project_duration_days']<0]"
   ]
  },
  {
   "cell_type": "markdown",
   "metadata": {},
   "source": [
    "# Manual Data Cleaning\n",
    "Based off of identified duplicates in the previous section"
   ]
  },
  {
   "cell_type": "code",
   "execution_count": null,
   "metadata": {},
   "outputs": [],
   "source": []
  },
  {
   "cell_type": "code",
   "execution_count": null,
   "metadata": {
    "collapsed": true
   },
   "outputs": [],
   "source": []
  },
  {
   "cell_type": "code",
   "execution_count": null,
   "metadata": {
    "collapsed": true
   },
   "outputs": [],
   "source": []
  },
  {
   "cell_type": "code",
   "execution_count": null,
   "metadata": {
    "collapsed": true
   },
   "outputs": [],
   "source": []
  },
  {
   "cell_type": "code",
   "execution_count": null,
   "metadata": {
    "collapsed": true
   },
   "outputs": [],
   "source": []
  },
  {
   "cell_type": "code",
   "execution_count": 99,
   "metadata": {
    "collapsed": true
   },
   "outputs": [],
   "source": [
    "#this has a duplicate, same address, different APN\n",
    "new_df=new_df[(new_df['address']!='3575 GEARY BL') | (new_df['apn']=='1084010')]"
   ]
  },
  {
   "cell_type": "code",
   "execution_count": 100,
   "metadata": {},
   "outputs": [],
   "source": [
    "#same project, happening at different periods\n",
    "new_df.loc[(new_df['address']=='1634-1690 PINE ST') & (new_df['apn']=='0647007'), 'comp_date']='07/01/2016'\n",
    "new_df=new_df[(new_df['address']!='1634 - 1690 PINE ST') | (new_df['apn']=='0647007')]"
   ]
  },
  {
   "cell_type": "code",
   "execution_count": 101,
   "metadata": {},
   "outputs": [
    {
     "data": {
      "text/html": [
       "<div>\n",
       "<style>\n",
       "    .dataframe thead tr:only-child th {\n",
       "        text-align: right;\n",
       "    }\n",
       "\n",
       "    .dataframe thead th {\n",
       "        text-align: left;\n",
       "    }\n",
       "\n",
       "    .dataframe tbody tr th {\n",
       "        vertical-align: top;\n",
       "    }\n",
       "</style>\n",
       "<table border=\"1\" class=\"dataframe\">\n",
       "  <thead>\n",
       "    <tr style=\"text-align: right;\">\n",
       "      <th></th>\n",
       "      <th>BP_date</th>\n",
       "      <th>address</th>\n",
       "      <th>apn</th>\n",
       "      <th>best_date</th>\n",
       "      <th>best_stat</th>\n",
       "      <th>comp_date</th>\n",
       "      <th>con_date</th>\n",
       "      <th>dbi_permit</th>\n",
       "      <th>first_date</th>\n",
       "      <th>first_project_record_date</th>\n",
       "      <th>firstfiled</th>\n",
       "      <th>latest_project_record_date</th>\n",
       "      <th>latest_project_status</th>\n",
       "      <th>project_dates</th>\n",
       "      <th>project_duration_days</th>\n",
       "      <th>project_statuses</th>\n",
       "      <th>report_quarter</th>\n",
       "      <th>report_year</th>\n",
       "      <th>status</th>\n",
       "      <th>units</th>\n",
       "      <th>unitsnet</th>\n",
       "      <th>x</th>\n",
       "      <th>y</th>\n",
       "      <th>zoning</th>\n",
       "      <th>zoning_simplified</th>\n",
       "      <th>address_apn</th>\n",
       "    </tr>\n",
       "  </thead>\n",
       "  <tbody>\n",
       "    <tr>\n",
       "      <th>5245</th>\n",
       "      <td></td>\n",
       "      <td>1634-1690 PINE ST</td>\n",
       "      <td>0647007</td>\n",
       "      <td>2015-10-29</td>\n",
       "      <td>CONSTRUCTION</td>\n",
       "      <td>07/01/2016</td>\n",
       "      <td>2015-07-30</td>\n",
       "      <td>201312184508</td>\n",
       "      <td>2000-11-27</td>\n",
       "      <td>2012-07-17</td>\n",
       "      <td>2000-11-27</td>\n",
       "      <td>2015-10-29</td>\n",
       "      <td>CONSTRUCTION</td>\n",
       "      <td>('2012-07-17', '2012-07-17', '2012-07-17', '20...</td>\n",
       "      <td>5421.00</td>\n",
       "      <td>('PL FILED', 'PL FILED', 'PL FILED', 'PL FILED...</td>\n",
       "      <td>3</td>\n",
       "      <td>2015</td>\n",
       "      <td>Under Construction</td>\n",
       "      <td>260.00</td>\n",
       "      <td>260.00</td>\n",
       "      <td>-122.42</td>\n",
       "      <td>37.79</td>\n",
       "      <td>NC-3</td>\n",
       "      <td>NC-3</td>\n",
       "      <td>1634-1690 PINE ST0647007</td>\n",
       "    </tr>\n",
       "  </tbody>\n",
       "</table>\n",
       "</div>"
      ],
      "text/plain": [
       "     BP_date            address      apn   best_date     best_stat  \\\n",
       "5245          1634-1690 PINE ST  0647007  2015-10-29  CONSTRUCTION   \n",
       "\n",
       "       comp_date    con_date    dbi_permit  first_date  \\\n",
       "5245  07/01/2016  2015-07-30  201312184508  2000-11-27   \n",
       "\n",
       "     first_project_record_date  firstfiled latest_project_record_date  \\\n",
       "5245                2012-07-17  2000-11-27                 2015-10-29   \n",
       "\n",
       "     latest_project_status                                      project_dates  \\\n",
       "5245          CONSTRUCTION  ('2012-07-17', '2012-07-17', '2012-07-17', '20...   \n",
       "\n",
       "      project_duration_days  \\\n",
       "5245                5421.00   \n",
       "\n",
       "                                       project_statuses  report_quarter  \\\n",
       "5245  ('PL FILED', 'PL FILED', 'PL FILED', 'PL FILED...               3   \n",
       "\n",
       "      report_year              status  units  unitsnet       x     y zoning  \\\n",
       "5245         2015  Under Construction 260.00    260.00 -122.42 37.79   NC-3   \n",
       "\n",
       "     zoning_simplified               address_apn  \n",
       "5245              NC-3  1634-1690 PINE ST0647007  "
      ]
     },
     "execution_count": 101,
     "metadata": {},
     "output_type": "execute_result"
    }
   ],
   "source": [
    "new_df.loc[(new_df['address']=='1634-1690 PINE ST') & (new_df['apn']=='0647007')]"
   ]
  },
  {
   "cell_type": "code",
   "execution_count": 102,
   "metadata": {
    "collapsed": true
   },
   "outputs": [],
   "source": [
    "#Be sure to redo project duration after all manual cleaning"
   ]
  },
  {
   "cell_type": "code",
   "execution_count": 103,
   "metadata": {
    "collapsed": true
   },
   "outputs": [],
   "source": [
    "#do median time based on neighborhood"
   ]
  },
  {
   "cell_type": "code",
   "execution_count": 104,
   "metadata": {
    "collapsed": true
   },
   "outputs": [],
   "source": [
    "#breakdown time to completion by stage for those projects that this can be done for"
   ]
  }
 ],
 "metadata": {
  "anaconda-cloud": {},
  "kernelspec": {
   "display_name": "Python [default]",
   "language": "python",
   "name": "python3"
  },
  "language_info": {
   "codemirror_mode": {
    "name": "ipython",
    "version": 3
   },
   "file_extension": ".py",
   "mimetype": "text/x-python",
   "name": "python",
   "nbconvert_exporter": "python",
   "pygments_lexer": "ipython3",
   "version": "3.6.3"
  }
 },
 "nbformat": 4,
 "nbformat_minor": 1
}
